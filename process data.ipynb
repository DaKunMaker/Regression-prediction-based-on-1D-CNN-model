{
 "cells": [
  {
   "cell_type": "code",
   "execution_count": 1,
   "id": "37775f07",
   "metadata": {},
   "outputs": [],
   "source": [
    "import os\n",
    "import numpy as np"
   ]
  },
  {
   "cell_type": "markdown",
   "id": "1b898a38",
   "metadata": {},
   "source": [
    "记载数据"
   ]
  },
  {
   "cell_type": "code",
   "execution_count": null,
   "id": "78ca398a",
   "metadata": {},
   "outputs": [],
   "source": [
    "path = 'xxx'\n",
    "file = os.listdir(path)\n",
    "file"
   ]
  },
  {
   "cell_type": "markdown",
   "id": "6ad7b712",
   "metadata": {},
   "source": [
    "数据切分"
   ]
  },
  {
   "cell_type": "code",
   "execution_count": null,
   "id": "578c01a0",
   "metadata": {},
   "outputs": [],
   "source": [
    "samples = []    #样本\n",
    "labels = []    #标签\n",
    "M = 100    #窗长\n",
    "Data_length=800    #取前800个数据\n",
    "\n",
    "for i in file[]:\n",
    "    data = pd.read_csv(path + '/' + i,header=None)# header=None：该文件没有标题\n",
    "    \n",
    "    for j in range(Data_length):\n",
    "        if j > Data_length - M:\n",
    "            break\n",
    "        sample1 = data.values[0,j:j + M]\n",
    "        sample2 = data.values[2,j:j + M]\n",
    "        sample = np.c_[sample1, sample2]    #将csv中的第一例和第三列合并成一个二维数组\n",
    "#         scaler = StandardScaler()\n",
    "#         x_scaler = scaler.fit_transform(sample)\n",
    "        label = data.values[1,j + M]    #csv第二列值作为标签值\n",
    "        \n",
    "        samples.append(sample)\n",
    "        labels.append(label)"
   ]
  },
  {
   "cell_type": "markdown",
   "id": "872a652d",
   "metadata": {},
   "source": [
    "保存样本，标签"
   ]
  },
  {
   "cell_type": "code",
   "execution_count": null,
   "id": "f21d8c1b",
   "metadata": {},
   "outputs": [],
   "source": [
    "s = np.array(samples)\n",
    "np.save(file='samples.npy',arr=s)"
   ]
  },
  {
   "cell_type": "code",
   "execution_count": null,
   "id": "25333a71",
   "metadata": {},
   "outputs": [],
   "source": [
    "l = np.array(labels)\n",
    "np.save(file='labels.npy',arr=l)"
   ]
  }
 ],
 "metadata": {
  "kernelspec": {
   "display_name": "gpu",
   "language": "python",
   "name": "gpu"
  },
  "language_info": {
   "codemirror_mode": {
    "name": "ipython",
    "version": 3
   },
   "file_extension": ".py",
   "mimetype": "text/x-python",
   "name": "python",
   "nbconvert_exporter": "python",
   "pygments_lexer": "ipython3",
   "version": "3.7.3"
  },
  "toc": {
   "base_numbering": 1,
   "nav_menu": {},
   "number_sections": true,
   "sideBar": true,
   "skip_h1_title": false,
   "title_cell": "Table of Contents",
   "title_sidebar": "Contents",
   "toc_cell": false,
   "toc_position": {},
   "toc_section_display": true,
   "toc_window_display": false
  },
  "varInspector": {
   "cols": {
    "lenName": 16,
    "lenType": 16,
    "lenVar": 40
   },
   "kernels_config": {
    "python": {
     "delete_cmd_postfix": "",
     "delete_cmd_prefix": "del ",
     "library": "var_list.py",
     "varRefreshCmd": "print(var_dic_list())"
    },
    "r": {
     "delete_cmd_postfix": ") ",
     "delete_cmd_prefix": "rm(",
     "library": "var_list.r",
     "varRefreshCmd": "cat(var_dic_list()) "
    }
   },
   "types_to_exclude": [
    "module",
    "function",
    "builtin_function_or_method",
    "instance",
    "_Feature"
   ],
   "window_display": false
  }
 },
 "nbformat": 4,
 "nbformat_minor": 5
}
